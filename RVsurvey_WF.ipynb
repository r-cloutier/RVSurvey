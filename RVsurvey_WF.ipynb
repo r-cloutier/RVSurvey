{
 "cells": [
  {
   "cell_type": "code",
   "execution_count": 1,
   "metadata": {},
   "outputs": [],
   "source": [
    "from imports import *\n",
    "import astropy.units as u\n",
    "from astropy.time import Time\n",
    "from astropy.coordinates import SkyCoord, EarthLocation, AltAz\n",
    "from astropy.coordinates import get_sun, get_moon\n",
    "%matplotlib notebook"
   ]
  },
  {
   "cell_type": "markdown",
   "metadata": {},
   "source": [
    "## compute window function for a given target"
   ]
  },
  {
   "cell_type": "code",
   "execution_count": 2,
   "metadata": {},
   "outputs": [],
   "source": [
    "def compute_WF(target_dicts, tel_dicts):\n",
    "    '''Given a set of targets to be observed with a set of telescopes, construct a sample window function \n",
    "    taking into account weather, target prioritization, exposure time, etc.'''\n",
    "    # ensure that all necessary information is included in the input\n",
    "    _dicts_complete(target_dicts, tel_dicts)\n",
    "    \n",
    "    # compute for each target and with each telescope WF\n",
    "    df_times = pd.DataFrame()\n",
    "    target_times, target_names, telescope_names = np.zeros(0), np.zeros(0), np.zeros(0)\n",
    "    RVnoise, eRV, seeing, airmass = np.zeros(0), np.zeros(0), np.zeros(0), np.zeros(0)\n",
    "    for i,d1 in enumerate(target_dicts):\n",
    "        for j,d2 in enumerate(tel_dicts):\n",
    "            # sample a window function given the input parameters\n",
    "            print('\\nObserving %s with %s\\n'%(d1['target_name'], d2['telescope_name']))\n",
    "            times,rvnoise,erv,seeingtmp,airmasstmp = _define_WF_onetarget_onetelescope(d1, d2)\n",
    "            target_times    = np.append(target_times, times)\n",
    "            target_names    = np.append(target_names, np.repeat(d1['target_name'], times.size))\n",
    "            telescope_names = np.append(telescope_names, np.repeat(d2['telescope_name'], times.size))            \n",
    "            RVnoise         = np.append(RVnoise, rvnoise)\n",
    "            eRV             = np.append(eRV, erv)\n",
    "            seeing          = np.append(seeing, seeingtmp)\n",
    "            airmass         = np.append(airmass, airmasstmp)\n",
    "\n",
    "    # combine timeseries from different telescopes\n",
    "    s = np.argsort(target_times)\n",
    "    df_times['times']        = target_times[s]\n",
    "    df_times['target_names'] = target_names[s]\n",
    "    df_times['telescopes']   = telescope_names[s]\n",
    "    df_times['RV_noise']     = RVnoise[s]\n",
    "    df_times['sigmaRV']      = eRV[s]\n",
    "    df_times['seeing']       = seeing[s]\n",
    "    df_times['airmass']      = airmass[s]\n",
    "\n",
    "    # combine WFs somehow\n",
    "    return df_times"
   ]
  },
  {
   "cell_type": "code",
   "execution_count": 66,
   "metadata": {},
   "outputs": [],
   "source": [
    "def _dicts_complete(target_dicts, tel_dicts):\n",
    "    '''Ensure that all necessary information is present to construct an accurate window function.'''\n",
    "    for _,d in enumerate(target_dicts):\n",
    "        assert np.all(np.in1d(['target_name','ra_deg','dec_deg'], list(d.keys())))                              \n",
    "    for _,d in enumerate(tel_dicts):\n",
    "        assert np.all(np.in1d(['telescope_name','lat_deg','lon_deg','elevation_m','toverhead_min','median_seeing_arcsec'],\n",
    "                              list(d.keys())))\n",
    "        \n",
    "        \n",
    "        \n",
    "def _define_WF_onetarget_onetelescope(target_dict, tel_dict, transit_csv=''):\n",
    "    '''Construct a window function for a target from a given telescope site.'''  \n",
    "    # initialize array of potential observations epochs\n",
    "    dtarr = np.arange(0, tel_dict['survey_len_yrs']*365.25*24*60, \n",
    "                      target_dict['texp_min']+tel_dict['toverhead_min'])*u.min\n",
    "    times = Time(tel_dict['start_date']) + dtarr\n",
    "    times += np.random.uniform(-1, 1, times.size)/24  # add noise\n",
    "    times = Time(np.sort(times))\n",
    "    \n",
    "    # ensure that the Sun is not up\n",
    "    print('Restricting to daytime with twilight = %.1f deg...'%min_twilight_deg)\n",
    "    if times.size>0: _,times,night_edge_inds = _exclude_daytime(times, tel_dict)\n",
    "    \n",
    "    # restrict to bright time if necessary\n",
    "    print('Restricting to bright time with the Moon > %.1f deg...'%tel_dict['min_Moon_alt'])\n",
    "    if times.size>0: times = _exclude_darktime(times, tel_dict)\n",
    "    \n",
    "    # include random weather losses\n",
    "    print('Applying random weather losses to %.1f%% of nights...'%(tel_dict['fractional_weather_loss']*1e2))\n",
    "    if times.size>0: times = _exclude_weather_losses(times, night_edge_inds, tel_dict)\n",
    "    \n",
    "    # only observe above a certain airmass\n",
    "    print('Restricting to above airmass of %.1f...'%max_airmass)\n",
    "    if times.size>0: _,times = _exclude_low_airmass(times, target_dict, tel_dict)\n",
    "\n",
    "    # remove points spaced closely in time\n",
    "    print('Restricting to %i points per night and separated by > %.2f minutes...'%(tel_dict['Npernight'], \n",
    "                                                                                   tel_dict['dtmin_min']))\n",
    "    if times.size>0: times = _limit_nightly_pnts(times, tel_dict)\n",
    "    \n",
    "    # exclude epochs that have a priority transit from another target\n",
    "    if transit_csv != '':\n",
    "        print('Excluding in-transit epochs of priority targets...')\n",
    "        if times.size>0: times = _exclude_transits(times, transit_csv)\n",
    "          \n",
    "    # lastly, of all the available time, restrict to the fraction that is available for the desired program\n",
    "    if times.size>0: times = _exclude_fraction_of_nights(times, tel_dict)\n",
    "\n",
    "    # compute the seeing, airmass, and resulting RV uncertainties\n",
    "    print('Scaling RVs by seeing and airmass...')\n",
    "    if times.size>0: \n",
    "        RVnoise, eRV, seeing, airmass = _sample_eRV(times, target_dict, tel_dict)\n",
    "    else:\n",
    "        RVnoise, eRV, seeing, airmass = np.zeros(0), np.zeros(0), np.zeros(0), np.zeros(0)\n",
    "        \n",
    "    return times, RVnoise, eRV, seeing, airmass\n",
    "    \n",
    "\n",
    "    \n",
    "def _exclude_daytime(times, tel_dict):\n",
    "    '''Given potential epochs of observation from a particular site, flag ones that occur during daytime.'''\n",
    "    # setup location\n",
    "    loc = EarthLocation(lat=tel_dict['lat_deg']*u.deg, lon=tel_dict['lon_deg']*u.deg, \n",
    "                        height=tel_dict['elevation_m']*u.m)\n",
    "    frame = AltAz(obstime=times, location=loc)\n",
    "    \n",
    "    # get Sun's altitude at all times\n",
    "    sunaltazs = get_sun(times).transform_to(frame)\n",
    "    \n",
    "    # only consider when the Sun is below the twilight altitude\n",
    "    g = sunaltazs.alt.deg < min_twilight_deg\n",
    "    timesout = Time(times[g])\n",
    "    \n",
    "    # get indices separating nights\n",
    "    night_edge_inds = np.append(0, np.where(np.diff(np.where(sunaltazs.alt.deg > min_twilight_deg)[0]) > 1)[0])\n",
    "    return sunaltazs.alt.deg, Time(timesout), night_edge_inds\n",
    "\n",
    "\n",
    "\n",
    "def _exclude_darktime(times, tel_dict):\n",
    "    '''Given potential epochs of observation from a particular site, exclude epochs that occur during dark time\n",
    "    such as on CFHT.'''\n",
    "    if tel_dict['min_Moon_alt'] <= -90:\n",
    "        return Time(times)\n",
    "    \n",
    "    else:\n",
    "        # setup location\n",
    "        loc = EarthLocation(lat=tel_dict['lat_deg']*u.deg, lon=tel_dict['lon_deg']*u.deg, \n",
    "                            height=tel_dict['elevation_m']*u.m)\n",
    "        frame = AltAz(obstime=times, location=loc)\n",
    "    \n",
    "        # restrict to where Moon is above some altitude and is sigfnicantly illuminated by the Sun\n",
    "        sun, moon = get_sun(times), get_moon(times)\n",
    "        moonalt = np.array(get_moon(times).transform_to(frame).alt)     \n",
    "        elongation = sun.separation(moon)\n",
    "        i = np.arctan2(sun.distance*np.sin(elongation), moon.distance - sun.distance*np.cos(elongation))\n",
    "        k = (1 + np.cos(i))/2.0\n",
    "        illumination = k.value\n",
    "\n",
    "        return Time(times[(moonalt>tel_dict['min_Moon_alt']) & (illumination>max_lunar_illumination)])\n",
    "\n",
    "\n",
    "\n",
    "def _exclude_weather_losses(times, night_edge_inds, tel_dict):\n",
    "    '''Given potential epochs of observation, randomly omit epochs that have bad weather.'''\n",
    "    good_weather = np.zeros(times.size, dtype=bool)\n",
    "    for i in range(night_edge_inds.size-1):\n",
    "        # randomly select this night as good or bad\n",
    "        ind, jind = night_edge_inds[i], night_edge_inds[i+1]\n",
    "        good_weather[ind:jind] = np.random.rand() <= 1. - tel_dict['fractional_weather_loss']\n",
    "    return Time(times[good_weather])\n",
    "\n",
    "\n",
    "\n",
    "def _exclude_low_airmass(times, target_dict, tel_dict):\n",
    "    '''Given potential epochs of observation of a given target, flag epochs where the target is below the threshold\n",
    "    airmass allowed.'''\n",
    "    # only consider when the target is above a desired airmass\n",
    "    altaz, airmass = _get_airmass(times, target_dict, tel_dict)\n",
    "    return np.array(airmass), Time(times[(np.array(altaz.alt) > 0) & (np.array(airmass) <= max_airmass)])\n",
    "\n",
    "\n",
    "\n",
    "def _get_airmass(times, target_dict, tel_dict):\n",
    "        # define target location\n",
    "    c = SkyCoord(target_dict['ra_deg'], target_dict['dec_deg'], frame='icrs', unit='deg')\n",
    "    \n",
    "    # set telescope location\n",
    "    loc = EarthLocation(lat=tel_dict['lat_deg']*u.deg, lon=tel_dict['lon_deg']*u.deg, \n",
    "                        height=tel_dict['elevation_m']*u.m)\n",
    "    frame = AltAz(obstime=times, location=loc)\n",
    "\n",
    "    # compute airmass\n",
    "    altaz = c.transform_to(frame)\n",
    "    airmass = altaz.secz\n",
    "    return altaz, airmass\n",
    "\n",
    "\n",
    "\n",
    "def _limit_nightly_pnts(times, tel_dict):\n",
    "    '''Given potential epochs of observation, exclude pnts that are not sufficiently separated in time and do not \n",
    "    occur too often within the same night.'''\n",
    "    # flag nearby points\n",
    "    timesout = np.copy(times)\n",
    "    tooclose = np.append(False, np.diff(timesout)*24*60 < tel_dict['dtmin_min'])\n",
    "    while np.any(tooclose):\n",
    "        timesout = timesout[np.invert(tooclose)]\n",
    "        tooclose = np.append(False, np.diff(timesout)*24*60 < tel_dict['dtmin_min'])\n",
    "    \n",
    "    # ensure that only the maximum number of points per night are obtained\n",
    "    tokeep = np.ones(timesout.size, dtype=bool)\n",
    "    for i,t in enumerate(Time(timesout).jd):\n",
    "        thisnight = abs(Time(timesout).jd - t) < max_night_len_hrs/24.\n",
    "        if thisnight.sum() > tel_dict['Npernight']:\n",
    "            rand_inds = np.append(np.ones(tel_dict['Npernight']), \n",
    "                                  np.zeros(thisnight.sum()-tel_dict['Npernight']))\n",
    "            np.random.shuffle(rand_inds)\n",
    "            tokeep[thisnight] = rand_inds.astype(bool)\n",
    "        \n",
    "    return Time(timesout[tokeep])\n",
    "\n",
    "\n",
    "\n",
    "def _exclude_transits(times, transit_csv):\n",
    "    '''Given potential epochs of observations, flag ones that occur around the transit of a priority target \n",
    "    whose ephemeris is given in the transit_csv file.'''\n",
    "    # flag epochs that occur in and around transits\n",
    "    intransit = np.zeros(times.size, dtype=bool)\n",
    "    _,Ptransits, T0transits, Dtransits = np.loadtxt(transit_csv, delimiter=',').T\n",
    "    for i in range(Ptransits.size):\n",
    "        phase = foldAt(times.jd, Ptransits[i], T0transits[i])\n",
    "        phase[phase>.5] -= 1\n",
    "        phi_bound = Dtransits[i]*(1. + N_D_beforeandaftertransit) / (Ptransits[i]*24) # max(phase) on either side of the transit mid point\n",
    "        intransit[np.isclose(abs(phase), 0, atol=phi_bound)] = True\n",
    "    \n",
    "    # only consider out-of-transit epochs\n",
    "    timesout = np.copy(times)\n",
    "    return timesout[np.invert(intransit)]\n",
    "\n",
    "\n",
    "\n",
    "def _exclude_fraction_of_nights(times, tel_dict):\n",
    "    '''Given a set of potential epochs of observation, randomly select those according to the fraction of \n",
    "    available time that is dedicated to the relevant observing program.'''\n",
    "    return Time(times[np.random.rand(times.size) <= tel_dict['fraction_available_for_program']])\n",
    "\n",
    "\n",
    "\n",
    "def _sample_seeing(times, tel_dict):\n",
    "    '''Sample the seeing from a Rayleigh distribution scaled to the median seeing for that site.\n",
    "    See sample distribution here: https://www.naoj.org/Observing/Telescope/ImageQuality/Seeing/'''\n",
    "    # sample nightly distribution of seeing conditions\n",
    "    pdf = np.random.rayleigh(1, times.size)\n",
    "    mode = pdf.mean() * np.sqrt(2/np.pi)\n",
    "    pdf *= tel_dict['median_seeing_arcsec'] / mode\n",
    "    return pdf\n",
    "\n",
    "\n",
    "\n",
    "def _sample_eRV(times, target_dict, tel_dict):\n",
    "    '''Given a median sigmaRV value for a given target on a given telescope (see dictionary sigmaRV_dict),\n",
    "    scale the resulting RV uncertainties and noise according to seeing and airmass.'''\n",
    "    # get seeing and airmass at all times\n",
    "    seeing = _sample_seeing(times, tel_dict)\n",
    "    _,airmass = _get_airmass(times, target_dict, tel_dict)\n",
    "    \n",
    "    # scale the median RV uncertainty based on seeing\n",
    "    eRV = np.repeat(float(sigmaRV_dict['%s_%s'%(target_dict['target_name'], tel_dict['telescope_name'])]), times.size)\n",
    "    seeingfit, eRVfit = np.loadtxt('/Users/ryancloutier/Research/RVSurvey/input_data/seeing_eRV.txt').T # from HARPS-N ETC\n",
    "    seeing2eRV = np.poly1d(np.polyfit(np.log10(seeingfit), np.log10(eRVfit), 3))\n",
    "    eRV *= 10**seeing2eRV(np.log10(seeing)) / 10**seeing2eRV(np.log10(tel_dict['median_seeing_arcsec']))\n",
    "\n",
    "    # scale the median RV uncertainty based on airmass\n",
    "    airmassfit, eRVfit = np.loadtxt('/Users/ryancloutier/Research/RVSurvey/input_data/airmass_eRV.txt').T # from HARPS-N ETC\n",
    "    airmass2eRV = np.poly1d(np.polyfit(airmassfit, eRVfit, 2))\n",
    "    eRV *= airmass2eRV(airmass) / airmass2eRV(np.median(airmass))\n",
    "\n",
    "    # add white noise to the RV signal\n",
    "    RVnoise = np.random.normal(0, eRV, (1,eRV.size)).reshape(eRV.size)\n",
    "    return RVnoise, eRV, seeing, airmass"
   ]
  },
  {
   "cell_type": "markdown",
   "metadata": {},
   "source": [
    "## define RV instrument(s) / telescope(s)"
   ]
  },
  {
   "cell_type": "code",
   "execution_count": 78,
   "metadata": {},
   "outputs": [],
   "source": [
    "tel_SPIRou = {'telescope_name':'SPIRou', 'lat_deg':19.8, 'lon_deg':-155.5, 'elevation_m':4200,\n",
    "              'min_Moon_alt':-40, 'Npernight':1, 'dtmin_min':120, 'start_date':'2019-11-20', 'survey_len_yrs':.5,\n",
    "              'fractional_weather_loss':.2, 'fraction_available_for_program':.25, 'median_seeing_arcsec':.6,\n",
    "              'toverhead_min':5}\n",
    "\n",
    "tel_HARPSN = {'telescope_name':'HARPSN', 'lat_deg':28.7, 'lon_deg':-17.9, 'elevation_m':2370,\n",
    "              'min_Moon_alt':-np.inf, 'Npernight':2, 'dtmin_min':60, 'start_date':'2019-11-20', 'survey_len_yrs':.5,\n",
    "              'fractional_weather_loss':.4, 'fraction_available_for_program':.5, 'median_seeing_arcsec':1.2,\n",
    "              'toverhead_min':5}\n",
    "\n",
    "tel_HARPS = {'telescope_name':'HARPS', 'lat_deg':-29.26, 'lon_deg':-70.74, 'elevation_m':2400,\n",
    "             'min_Moon_alt':-np.inf, 'Npernight':1, 'dtmin_min':120, 'start_date':'2019-11-20', 'survey_len_yrs':.5,\n",
    "             'fractional_weather_loss':.2, 'fraction_available_for_program':.5, 'median_seeing_arcsec':.87,\n",
    "             'toverhead_min':5}"
   ]
  },
  {
   "cell_type": "markdown",
   "metadata": {},
   "source": [
    "## define target(s) of interest"
   ]
  },
  {
   "cell_type": "code",
   "execution_count": 79,
   "metadata": {},
   "outputs": [],
   "source": [
    "toi732 = {'target_name':'toi732','ra_deg':154.6449, 'dec_deg':-11.7178, 'texp_min':30}\n",
    "sigmaRV_dict = {'toi732_SPIRou':2.25, 'toi732_HARPSN':4, 'toi732_HARPS':3.0}\n",
    "\n",
    "#teststar = {'target_name':'teststar','ra_deg':154.6449, 'dec_deg':-50, 'texp_min':30}\n",
    "#sigmaRV_dict = {'teststar_SPIRou':2.25, 'teststar_HARPSN':4, 'teststar_HARPS':3.0}"
   ]
  },
  {
   "cell_type": "markdown",
   "metadata": {},
   "source": [
    "## construct window function"
   ]
  },
  {
   "cell_type": "code",
   "execution_count": 80,
   "metadata": {},
   "outputs": [],
   "source": [
    "# define globals\n",
    "min_twilight_deg, max_airmass, N_D_beforeandaftertransit = -18, 2, .5\n",
    "max_night_len_hrs, max_lunar_illumination = 10, .5"
   ]
  },
  {
   "cell_type": "code",
   "execution_count": 81,
   "metadata": {},
   "outputs": [
    {
     "name": "stdout",
     "output_type": "stream",
     "text": [
      "\n",
      "Observing toi732 with HARPS\n",
      "\n",
      "Restricting to daytime with twilight = -18.0 deg...\n"
     ]
    },
    {
     "name": "stderr",
     "output_type": "stream",
     "text": [
      "WARNING: failed to download http://maia.usno.navy.mil/ser7/finals2000A.all and http://toshi.nofs.navy.mil/ser7/finals2000A.all, using local IERS-B: <urlopen error [Errno 8] nodename nor servname provided, or not known. requested URL: http://maia.usno.navy.mil/ser7/finals2000A.all>;HTTP Error 503: Service Unavailable [astropy.utils.iers.iers]\n",
      "WARNING: Tried to get polar motions for times after IERS data is valid. Defaulting to polar motion from the 50-yr mean for those. This may affect precision at the 10s of arcsec level [astropy.coordinates.builtin_frames.utils]\n",
      "WARNING: (some) times are outside of range covered by IERS table. Assuming UT1-UTC=0 for coordinate transformations. [astropy.coordinates.builtin_frames.utils]\n"
     ]
    },
    {
     "name": "stdout",
     "output_type": "stream",
     "text": [
      "Restricting to bright time with the Moon > -inf deg...\n",
      "Applying random weather losses to 20.0% of nights...\n",
      "Restricting to above airmass of 2.0...\n",
      "Restricting to 1 points per night and separated by > 120.00 minutes...\n",
      "Scaling RVs by seeing and airmass...\n",
      "\n",
      "Observing toi732 with SPIRou\n",
      "\n",
      "Restricting to daytime with twilight = -18.0 deg...\n",
      "Restricting to bright time with the Moon > -40.0 deg...\n",
      "Applying random weather losses to 20.0% of nights...\n",
      "Restricting to above airmass of 2.0...\n",
      "Restricting to 1 points per night and separated by > 120.00 minutes...\n",
      "Scaling RVs by seeing and airmass...\n",
      "\n",
      "Observing toi732 with HARPSN\n",
      "\n",
      "Restricting to daytime with twilight = -18.0 deg...\n",
      "Restricting to bright time with the Moon > -inf deg...\n",
      "Applying random weather losses to 40.0% of nights...\n",
      "Restricting to above airmass of 2.0...\n",
      "Restricting to 2 points per night and separated by > 60.00 minutes...\n",
      "Scaling RVs by seeing and airmass...\n",
      "CPU times: user 17.2 s, sys: 106 ms, total: 17.4 s\n",
      "Wall time: 24.5 s\n"
     ]
    }
   ],
   "source": [
    "%%time\n",
    "df_times = compute_WF([toi732], [tel_HARPS, tel_SPIRou, tel_HARPSN])"
   ]
  },
  {
   "cell_type": "code",
   "execution_count": 88,
   "metadata": {
    "scrolled": false
   },
   "outputs": [
    {
     "data": {
      "text/plain": [
       "<matplotlib.legend.Legend at 0x1a299420d0>"
      ]
     },
     "execution_count": 88,
     "metadata": {},
     "output_type": "execute_result"
    },
    {
     "data": {
      "image/png": "[encoded data removed]",
      "text/plain": [
       "<Figure size 864x504 with 1 Axes>"
      ]
     },
     "metadata": {
      "needs_background": "light"
     },
     "output_type": "display_data"
    }
   ],
   "source": [
    "# plot timeseries\n",
    "t0 = Time('2019-11-30')\n",
    "harps  = df_times['telescopes'] == 'HARPS'\n",
    "harpsn = df_times['telescopes'] == 'HARPSN'\n",
    "spirou = df_times['telescopes'] == 'SPIRou'\n",
    "\n",
    "plt.figure(figsize=(12,7))\n",
    "if harps.sum()>0:\n",
    "    plt.errorbar(Time(df_times['times'][harps]).jd-t0.jd, df_times['RV_noise'][harps], df_times['sigmaRV'][harps],\n",
    "                 fmt='ko', ms=0)\n",
    "    plt.scatter(Time(df_times['times'][harps]).jd-t0.jd, df_times['RV_noise'][harps], s=80, edgecolors='k', \n",
    "                facecolor='k', label='HARPS (%i, rms=%.3f m/s)'%(harps.sum(), df_times['RV_noise'][harps].std()))\n",
    "if harpsn.sum()>0:\n",
    "    plt.errorbar(Time(df_times['times'][harpsn]).jd-t0.jd, df_times['RV_noise'][harpsn], df_times['sigmaRV'][harpsn],\n",
    "                 fmt='bo', ms=0)\n",
    "    plt.scatter(Time(df_times['times'][harpsn]).jd-t0.jd, df_times['RV_noise'][harpsn], s=80, edgecolors='k', \n",
    "                facecolor='b', label='HARPS-N (%i, rms=%.3f m/s)'%(harpsn.sum(), df_times['RV_noise'][harpsn].std()))\n",
    "if spirou.sum()>0:\n",
    "    plt.errorbar(Time(df_times['times'][spirou]).jd-t0.jd, df_times['RV_noise'][spirou], df_times['sigmaRV'][spirou],\n",
    "                 fmt='ro', ms=0)\n",
    "    plt.scatter(Time(df_times['times'][spirou]).jd-t0.jd, df_times['RV_noise'][spirou], s=100, edgecolors='k', \n",
    "                facecolor='r', marker='d', label='SPIRou (%i, rms=%.3f m/s)'%(spirou.sum(), df_times['RV_noise'][spirou].std()))\n",
    "    \n",
    "plt.xlabel('Time [Days since %s]'%t0, fontsize=12), plt.ylabel('RV [m/s]', fontsize=12)\n",
    "plt.legend(fontsize=12)\n",
    "#plt.xlim((4,25))"
   ]
  },
  {
   "cell_type": "code",
   "execution_count": 92,
   "metadata": {},
   "outputs": [
    {
     "name": "stderr",
     "output_type": "stream",
     "text": [
      "/Users/ryancloutier/anaconda3/envs/my_default/lib/python3.7/site-packages/ipykernel_launcher.py:1: MatplotlibDeprecationWarning: \n",
      "The 'normed' kwarg was deprecated in Matplotlib 2.1 and will be removed in 3.1. Use 'density' instead.\n",
      "  \"\"\"Entry point for launching an IPython kernel.\n",
      "/Users/ryancloutier/anaconda3/envs/my_default/lib/python3.7/site-packages/ipykernel_launcher.py:2: MatplotlibDeprecationWarning: \n",
      "The 'normed' kwarg was deprecated in Matplotlib 2.1 and will be removed in 3.1. Use 'density' instead.\n",
      "  \n",
      "/Users/ryancloutier/anaconda3/envs/my_default/lib/python3.7/site-packages/ipykernel_launcher.py:3: MatplotlibDeprecationWarning: \n",
      "The 'normed' kwarg was deprecated in Matplotlib 2.1 and will be removed in 3.1. Use 'density' instead.\n",
      "  This is separate from the ipykernel package so we can avoid doing imports until\n"
     ]
    },
    {
     "data": {
      "image/png": "[encoded data removed]",
      "text/plain": [
       "<Figure size 432x288 with 1 Axes>"
      ]
     },
     "metadata": {
      "needs_background": "light"
     },
     "output_type": "display_data"
    }
   ],
   "source": [
    "_=plt.hist(df_times['RV_noise'][harps], bins=20, histtype='step', lw=2, normed=1)\n",
    "_=plt.hist(df_times['RV_noise'][harpsn], bins=20, histtype='step', lw=2, normed=1)\n",
    "_=plt.hist(df_times['RV_noise'][spirou], bins=20, histtype='step', lw=2, normed=1, color='k')"
   ]
  },
  {
   "cell_type": "code",
   "execution_count": null,
   "metadata": {},
   "outputs": [],
   "source": []
  }
 ],
 "metadata": {
  "kernelspec": {
   "display_name": "Python 3",
   "language": "python",
   "name": "python3"
  },
  "language_info": {
   "codemirror_mode": {
    "name": "ipython",
    "version": 3
   },
   "file_extension": ".py",
   "mimetype": "text/x-python",
   "name": "python",
   "nbconvert_exporter": "python",
   "pygments_lexer": "ipython3",
   "version": "3.7.4"
  }
 },
 "nbformat": 4,
 "nbformat_minor": 2
}
